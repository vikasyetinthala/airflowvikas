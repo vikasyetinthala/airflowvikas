{
 "cells": [
  {
   "cell_type": "code",
   "execution_count": 5,
   "id": "59211edb-48bf-4b7b-bd44-b1f9ae57050a",
   "metadata": {},
   "outputs": [],
   "source": [
    "from typing import NamedTuple\n",
    "\n",
    "import kfp\n",
    "import kfp.components as components\n",
    "import kfp.dsl as dsl\n",
    "#import kubeflow.fairing.utils\n",
    "from kfp.dsl import InputPath, OutputPath"
   ]
  },
  {
   "cell_type": "code",
   "execution_count": 49,
   "id": "49e6dbb5-0cfc-4c60-bf1f-f56842ae80a4",
   "metadata": {},
   "outputs": [],
   "source": [
    "def get_data(url_path:InputPath(str),data_dir:OutputPath(str)):\n",
    "    import pandas as pd\n",
    "    import os\n",
    "    from sklearn.model_selection import train_test_split\n",
    "    try:\n",
    "        df=pd.read_csv(url_path)\n",
    "    except exception as e:\n",
    "        print(e)\n",
    "    if not os.path.exists(os.path.join(os.getcwd(),data_dir)):\n",
    "        os.makedirs(os.path.join(os.getcwd(),data_dir))\n",
    "    train,test=train_test_split(df)\n",
    "    train.to_csv(os.path.join(os.getcwd(),data_dir,train.csv))\n",
    "    test.to_csv(os.path.join(os.getcwd(),data_dir,test.csv))"
   ]
  },
  {
   "cell_type": "code",
   "execution_count": 50,
   "id": "5f05dab6-d4cf-42c2-952b-9ecb03e78e5c",
   "metadata": {},
   "outputs": [],
   "source": [
    "def train_model(data_dir:InputPath(str),model_dir:OutputPath(str)):\n",
    "    import pandas as pd\n",
    "    import os\n",
    "    import pickle\n",
    "    from sklearn.ensemble import RandomForestClassifier\n",
    "    train=pd.read_csv(os.path.join(os.getcwd(),data_dir,train.csv))\n",
    "    train_x = train.drop([\"quality\"], axis=1)\n",
    "    train_y = train[[\"quality\"]]\n",
    "    rf=RandomForestClassifier()\n",
    "    rf.fit(train_x,train_y)\n",
    "    if not os.path.exists(os.path.join(os.getcwd(),model_dir)):\n",
    "        os.makedirs(os.path.join(os.getcwd(),model_dir))\n",
    "    with open(os.path.join(os.getcwd(),model_dir,'model.pkl'),'wb') as f:\n",
    "        pickle.dump(rf,f)  "
   ]
  },
  {
   "cell_type": "code",
   "execution_count": 58,
   "id": "42c6feff-ead4-4e03-9d68-faf9c83f1d54",
   "metadata": {},
   "outputs": [],
   "source": [
    "def evaluate_model(\n",
    "    data_dir: InputPath(str), model_dir: InputPath(str), metrics_path: OutputPath(str)\n",
    ") -> NamedTuple(\"EvaluationOutput\", [(\"mlpipeline_metrics\", \"Metrics\")]):\n",
    "    import pandas as pd\n",
    "    import os\n",
    "    import pickle\n",
    "    from sklearn.metrics import accuracy_score\n",
    "    from collections import namedtuple\n",
    "    import json\n",
    "    test=pd.read_csv(os.path.join(os.getcwd(),data_dir,test.csv))\n",
    "    test_x = test.drop([\"quality\"], axis=1)\n",
    "    test_y = test[[\"quality\"]]\n",
    "    with open(os.path.join(os.getcwd(),model_dir,'model.pkl'),'rb') as f:\n",
    "        model=pickle.load(f)\n",
    "    pred_y=model.predict(test_x)\n",
    "    from sklearn.metrics import accuracy_score\n",
    "    accuracy=(accuracy_score(test_y,pred_y)*100)\n",
    "    metrics={'metrics':\n",
    "             [\n",
    "                 {'name':\"accuracy_score\",\n",
    "                  'numberValue':float(accuracy),\n",
    "                 'format':\"PERCENTAGE\"}]\n",
    "            }\n",
    "    with open(metrics_path,'w') as f:\n",
    "        json.dump(metrics,f)\n",
    "    example_outputs=namedtuple('EvaluationOutput',['mlpipeline_metrics'])\n",
    "    return example_outputs(json.dumps(metrics))"
   ]
  },
  {
   "cell_type": "code",
   "execution_count": 67,
   "id": "28ce79cc-5735-402d-ad74-cbd4090f937d",
   "metadata": {},
   "outputs": [],
   "source": [
    "def export_model(model_dir:InputPath(str),metrics_path:InputPath(str),export_bucket:str,model_name:str,model_version:int):\n",
    "    import os\n",
    "    import boto3\n",
    "    from botocore.client import Config\n",
    "    \n",
    "    s3 = boto3.client(\n",
    "        \"s3\",\n",
    "        endpoint_url=\"http://minio.kubeflow\",\n",
    "        aws_access_key_id=\"minio\",\n",
    "        aws_secret_access_key=\"minio123\",\n",
    "        config=Config(signature_version=\"s3v4\"),\n",
    "    )\n",
    "    response=s3.list_buckets()\n",
    "    export_bucket_exists=False\n",
    "    for bucket in response[\"Buckets\"]:\n",
    "        if bucket[\"Name\"]==export_bucket:\n",
    "            export_bucket_exists=True\n",
    "    if not export_bucket_exists:\n",
    "        s3.create_bucket(ACL=\"public-read-write\",Bucket=export_bucket)\n",
    "        \n",
    "    for root,dirs,files in os.walk(model_dir):\n",
    "        for filename in files:\n",
    "            local_path=os.path.join(root,filename)\n",
    "            s3_path=os.path.relpath(local_path,model_dir)\n",
    "            \n",
    "            s3.upload_file(local_path,\n",
    "                           export_bucket,\n",
    "                           f\"{model_name}/{model_version}/{s3_path}\",\n",
    "                           ExtraArgs={\"ACL\":\"public-read\"},\n",
    "                          )\n",
    "            \n",
    "    response=s3.list_buckets(Bucket=export_bucket)\n",
    "    print(f\"All objects in {export_bucket}\")\n",
    "    for file in response[\"Contents\"]:\n",
    "        print(\"{}/{}\".format(export_bucket,file[\"key\"]))  "
   ]
  },
  {
   "cell_type": "code",
   "execution_count": 68,
   "id": "75eee057-6987-4104-87a3-aff307f9c47c",
   "metadata": {},
   "outputs": [],
   "source": [
    "BASE_IMAGE = \"mesosphere/kubeflow:1.2.0-tensorflow-2.4.0\""
   ]
  },
  {
   "cell_type": "code",
   "execution_count": 69,
   "id": "8bb15aea-e4c9-403b-97d6-ee447312cedb",
   "metadata": {},
   "outputs": [],
   "source": [
    "def train_and_serve(input_bucket:str,model_dir:str,data_dir:str,export_bucket:str,model_name:str,model_version:int):\n",
    "    downloadOp=components.func_to_container_op(get_data,base_image=BASE_IMAGE)(input_bucket).set_retry(5)\n",
    "    trainOp=components.func_to_container_op(train_model,base_image=BASE_IMAGE)(downloadOp.output)\n",
    "    evaluateOp=components.func_to_container_op(evaluate_model,base_image=BASE_IMAGE)(downloadOp.output,trainOp.output)\n",
    "    exportOp=components.func_to_container_op(export_model,base_image=BASE_IMAGE)(downloadOp.output,trainOp.output,evaluate_model.output,export_bucket,model_name,model_version)\n",
    "    kfservingOp=kfserving(\n",
    "        action=\"apply\",\n",
    "        model_uri=f\"s3://{export_bucket}/{model_name}\",\n",
    "        model_name=\"\",\n",
    "        namespace=NAMESPACE,\n",
    "        framework=\"tensorflow\",\n",
    "        watch_timeout=\"300\",\n",
    "    )\n",
    "    kfservingOp.after(exportOp)\n",
    "    "
   ]
  },
  {
   "cell_type": "code",
   "execution_count": null,
   "id": "53a747b1-3872-4760-8ee6-e4f6a2230a75",
   "metadata": {},
   "outputs": [],
   "source": [
    "@dsl.pipeline(\n",
    "    name=\"End-to-End WineQuality Pipeline\",\n",
    "    description=\"A sample pipeline to demonstrate multi-step model training, evaluation, export, and serving\",\n",
    ")\n",
    "def Wine_pipeline(input_bucket:str='wine-ml-model',\n",
    "                  model_dir='/train/model',\n",
    "                  data_dir='/train/data',\n",
    "                  export_bucket='WineQualityBucket',\n",
    "                  model_name:str=\"Wine-Model',\n",
    "                  model_version:int=1,\n",
    "                 ):\n",
    "    train_and_serve(input_bucket=input_bucket,\n",
    "                    model_dir=model_dir,\n",
    "                    data_dir=data_dir,\n",
    "                    export_bucket=export_bucket,\n",
    "                    model_name=model_name,\n",
    "                    model_version=model_version)\n"
   ]
  },
  {
   "cell_type": "code",
   "execution_count": null,
   "id": "c2f9e129-692c-43b0-8363-1e6f030f4d03",
   "metadata": {},
   "outputs": [],
   "source": [
    "pipeline_func=Wine_pipeline\n",
    "run_name=pipeline_func.__name__ + \"run\"\n",
    "experiment_name=\"end to end Wine Quality\"\n",
    "arguments = {\n",
    "    \"input_bucket\": INPUT_BUCKET,\n",
    "    \"model_dir\": \"/train/model\",\n",
    "    \"data_dir\": \"/train/data\",\n",
    "    \"export_bucket\": EXPORT_BUCKET,\n",
    "    \"model_name\": \"Wine-Model\",\n",
    "    \"model_version\": \"1\",\n",
    "}\n",
    "client=kfp.Client()\n",
    "run_result=client.create_run_from_pipeline_func(\n",
    "    pipeline_func,\n",
    "    experiment_name=experiment_name,\n",
    "    run_name=run_name,\n",
    "    arguments=arguments,\n",
    "    namespace=NAMESPACE\n",
    ")\n",
    "completed_run = run_result.wait_for_run_completion(timeout=900)\n",
    "completed_run.run.status"
   ]
  },
  {
   "cell_type": "code",
   "execution_count": null,
   "id": "46c0b543-cf59-43f7-90f2-ca59167d9a14",
   "metadata": {},
   "outputs": [],
   "source": []
  },
  {
   "cell_type": "code",
   "execution_count": null,
   "id": "4c9e9ba7-0dcc-4801-b4bc-e78021c670c0",
   "metadata": {},
   "outputs": [],
   "source": []
  },
  {
   "cell_type": "code",
   "execution_count": null,
   "id": "935dd752-5e31-4098-9c69-2f74edab5435",
   "metadata": {},
   "outputs": [],
   "source": []
  },
  {
   "cell_type": "code",
   "execution_count": 34,
   "id": "6bd60482-289c-49f1-8efa-c18b58a5510e",
   "metadata": {},
   "outputs": [],
   "source": [
    "import pandas as pd\n",
    "df=pd.read_csv(r\"C:\\Users\\krishna\\Desktop\\Datasets\\Breast_cancer_data.csv\")"
   ]
  },
  {
   "cell_type": "code",
   "execution_count": 35,
   "id": "c1e6aa62-3634-4ff8-a531-da37b37668d4",
   "metadata": {},
   "outputs": [],
   "source": [
    "df.head()\n",
    "import numpy as np"
   ]
  },
  {
   "cell_type": "code",
   "execution_count": 36,
   "id": "07951219-ed6d-49e3-bc1b-e871b0733ba3",
   "metadata": {},
   "outputs": [
    {
     "data": {
      "text/plain": [
       "mean_radius        False\n",
       "mean_texture       False\n",
       "mean_perimeter      True\n",
       "mean_area           True\n",
       "mean_smoothness    False\n",
       "diagnosis          False\n",
       "dtype: bool"
      ]
     },
     "execution_count": 36,
     "metadata": {},
     "output_type": "execute_result"
    }
   ],
   "source": [
    "df.isna().any()"
   ]
  },
  {
   "cell_type": "code",
   "execution_count": 37,
   "id": "5723ab8e-0737-403f-b1d2-5e9ba80b9159",
   "metadata": {},
   "outputs": [],
   "source": [
    "df['mean_perimeter']=df['mean_perimeter'].fillna(np.mean(df['mean_perimeter']))\n",
    "df['mean_area']=df['mean_area'].fillna(np.mean(df['mean_area']))"
   ]
  },
  {
   "cell_type": "code",
   "execution_count": 38,
   "id": "0caef2cc-4b16-48aa-bf0a-46bed62a3815",
   "metadata": {},
   "outputs": [],
   "source": [
    "x=df.iloc[:,:-1].values\n",
    "y=df.iloc[:,-1].values"
   ]
  },
  {
   "cell_type": "code",
   "execution_count": 42,
   "id": "c14e660f-bb73-42ac-9443-b0c3db838d76",
   "metadata": {},
   "outputs": [],
   "source": [
    "from sklearn.model_selection import train_test_split\n",
    "from sklearn.ensemble import RandomForestClassifier\n",
    "import pickle"
   ]
  },
  {
   "cell_type": "code",
   "execution_count": 40,
   "id": "d5a5e525-5e9d-4e8d-b4de-5fcf82735190",
   "metadata": {},
   "outputs": [],
   "source": [
    "x_train,x_test,y_train,y_test=train_test_split(x,y,test_size=0.25,random_state=100)"
   ]
  },
  {
   "cell_type": "code",
   "execution_count": 63,
   "id": "cf760b59-a9b7-4d47-9aac-18a86a98a974",
   "metadata": {},
   "outputs": [],
   "source": [
    "rf=RandomForestClassifier()\n",
    "rf.fit(x_train,y_train)\n",
    "with open(os.path.join('folder','data','model_file.pkl'),'wb') as f:\n",
    "    pickle.dump(rf,f)"
   ]
  },
  {
   "cell_type": "code",
   "execution_count": 52,
   "id": "106c4fff-bf4d-4a17-8b85-41633501a55c",
   "metadata": {},
   "outputs": [],
   "source": [
    "y_pred=model.predict(x_test)"
   ]
  },
  {
   "cell_type": "code",
   "execution_count": 53,
   "id": "958e3842-c61e-4e09-937f-7b0630d52a41",
   "metadata": {},
   "outputs": [
    {
     "data": {
      "text/plain": [
       "array([0, 1, 0, 1, 1, 1, 0, 0, 1, 1, 1, 0, 0, 0, 1, 0, 0, 1, 1, 1, 1, 1,\n",
       "       0, 0, 1, 0, 1, 1, 1, 1, 0, 1, 1, 0, 0, 1, 1, 1, 1, 0, 0, 1, 1, 0,\n",
       "       1, 0, 1, 1, 1, 1, 0, 1, 1, 0, 1, 1, 1, 0, 1, 1, 0, 0, 1, 1, 0, 1,\n",
       "       0, 0, 1, 0, 0, 1, 1, 0, 1, 1, 1, 0, 0, 1, 1, 0, 0, 1, 1, 0, 0, 1,\n",
       "       0, 1, 1, 1, 1, 0, 1, 1, 0, 1, 0, 1, 0, 0, 1, 1, 1, 1, 1, 0, 1, 1,\n",
       "       0, 1, 0, 1, 1, 1, 0, 1, 1, 1, 0, 1, 1, 0, 0, 1, 1, 0, 1, 1, 1, 1,\n",
       "       0, 1, 1, 0, 1, 0, 1, 1, 0, 0, 1], dtype=int64)"
      ]
     },
     "execution_count": 53,
     "metadata": {},
     "output_type": "execute_result"
    }
   ],
   "source": [
    "y_pred"
   ]
  },
  {
   "cell_type": "code",
   "execution_count": 56,
   "id": "b064ce8a-6120-49a8-90bb-584b8b26cd10",
   "metadata": {},
   "outputs": [],
   "source": [
    "from sklearn.metrics import accuracy_score\n",
    "accuracy=(accuracy_score(y_test,y_pred)*100)"
   ]
  },
  {
   "cell_type": "code",
   "execution_count": 57,
   "id": "b9ac1bbd-8f70-4fb1-9ef7-4971c123fb32",
   "metadata": {},
   "outputs": [
    {
     "data": {
      "text/plain": [
       "92.3076923076923"
      ]
     },
     "execution_count": 57,
     "metadata": {},
     "output_type": "execute_result"
    }
   ],
   "source": [
    "accuracy"
   ]
  },
  {
   "cell_type": "code",
   "execution_count": null,
   "id": "e5b288cf-0064-46ff-85b1-b0374578a987",
   "metadata": {},
   "outputs": [],
   "source": []
  },
  {
   "cell_type": "code",
   "execution_count": null,
   "id": "0c574ef0-b6a5-4532-bb08-e92439886d21",
   "metadata": {},
   "outputs": [],
   "source": []
  },
  {
   "cell_type": "code",
   "execution_count": null,
   "id": "7a0b6565-176b-4a90-b000-51c88114886b",
   "metadata": {},
   "outputs": [],
   "source": []
  },
  {
   "cell_type": "code",
   "execution_count": null,
   "id": "e5bf9f20-8f98-4cc7-8747-82f44034797f",
   "metadata": {},
   "outputs": [],
   "source": []
  },
  {
   "cell_type": "code",
   "execution_count": null,
   "id": "99b2f436-2c22-4752-9837-70d1f7693ca6",
   "metadata": {},
   "outputs": [],
   "source": []
  }
 ],
 "metadata": {
  "kernelspec": {
   "display_name": "Python 3",
   "language": "python",
   "name": "python3"
  },
  "language_info": {
   "codemirror_mode": {
    "name": "ipython",
    "version": 3
   },
   "file_extension": ".py",
   "mimetype": "text/x-python",
   "name": "python",
   "nbconvert_exporter": "python",
   "pygments_lexer": "ipython3",
   "version": "3.8.3"
  }
 },
 "nbformat": 4,
 "nbformat_minor": 5
}
