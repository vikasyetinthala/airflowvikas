{
 "cells": [
  {
   "cell_type": "code",
   "execution_count": 1,
   "id": "92052c44-d200-4858-9b91-f413071936e4",
   "metadata": {},
   "outputs": [],
   "source": [
    "!mkdir vikas"
   ]
  },
  {
   "cell_type": "code",
   "execution_count": 2,
   "id": "bbcbe9c1-6775-410e-b863-19f3ba6d74d5",
   "metadata": {},
   "outputs": [],
   "source": [
    "!cd vikas"
   ]
  },
  {
   "cell_type": "code",
   "execution_count": 3,
   "id": "a5577097-961d-4d2b-929e-23d13464b9d9",
   "metadata": {},
   "outputs": [
    {
     "name": "stderr",
     "output_type": "stream",
     "text": [
      "'docker' is not recognized as an internal or external command,\n",
      "operable program or batch file.\n"
     ]
    }
   ],
   "source": [
    "!docker login -u vikasyetintala07@gmail.com -p ammananna"
   ]
  },
  {
   "cell_type": "code",
   "execution_count": 4,
   "id": "0e9a7718-2897-4597-8f4c-584933a79c00",
   "metadata": {},
   "outputs": [
    {
     "name": "stdout",
     "output_type": "stream",
     "text": [
      "Writing config.py\n"
     ]
    }
   ],
   "source": [
    "%%writefile config.py\n",
    "bucket_name=\"\"\n",
    "bucket_uri=\"s3:\"+\"//\"+bucket_name\n",
    "version=1\n",
    "artifact_uri=bucket_uri+str(version)\n",
    "data_path=bucket_uri+\"/\"+\"data/data.csv\"\n",
    "processed_train=bucket_uri+\"/\"+\"processed/train.csv\"\n",
    "processed_test=bucket_uri+\"/\"+\"processed/test.csv\""
   ]
  },
  {
   "cell_type": "code",
   "execution_count": 5,
   "id": "ac2e6f29-d6b7-4e85-87fe-6a280fa75a80",
   "metadata": {},
   "outputs": [
    {
     "name": "stdout",
     "output_type": "stream",
     "text": [
      "Writing Dockerfile\n"
     ]
    }
   ],
   "source": [
    "%%writefile Dockerfile\n",
    "FROM \n",
    "RUN apt-get update && apt-get install -y git\n",
    "RUN mkdir pipeline\n",
    "WORKDIR /pipeline\n",
    "COPY ./ ./\n",
    "RUN pip install -r requirements.txt"
   ]
  },
  {
   "cell_type": "code",
   "execution_count": null,
   "id": "70b773df-17e7-4c70-80f5-d69bbf6c013b",
   "metadata": {},
   "outputs": [],
   "source": [
    "!docker build -t vikashub/kubeflowsdk"
   ]
  },
  {
   "cell_type": "code",
   "execution_count": null,
   "id": "3ade707f-4648-493b-9103-f154d52e4e9d",
   "metadata": {},
   "outputs": [],
   "source": [
    "!docker push vikashub/kubeflowsdk"
   ]
  },
  {
   "cell_type": "code",
   "execution_count": null,
   "id": "330afe4d-c7c7-472a-95aa-ac9bb8800039",
   "metadata": {},
   "outputs": [],
   "source": [
    "!pip install kfp"
   ]
  },
  {
   "cell_type": "code",
   "execution_count": 13,
   "id": "55cbf89a-b3de-4f6a-a37e-dc22d1b9cf3d",
   "metadata": {},
   "outputs": [],
   "source": [
    "import kfp\n",
    "from kfp import components\n",
    "from kfp import dsl"
   ]
  },
  {
   "cell_type": "code",
   "execution_count": null,
   "id": "5149f603-9216-4d1b-bfc6-7642b46b0b1c",
   "metadata": {},
   "outputs": [],
   "source": [
    "@dsl.component\n",
    "def get_data():\n",
    "    getdata_component=kfp.dsl.ContainerOp(\n",
    "        name=\"download-data\",\n",
    "        image=\"docker.io/vikashub/kubeflowsdk\",\n",
    "        command=[\"python\",\"get_data.py\"])\n",
    "    return getdata_component"
   ]
  },
  {
   "cell_type": "code",
   "execution_count": null,
   "id": "c924cd76-c5e3-4391-a0ac-6146222d11c8",
   "metadata": {},
   "outputs": [],
   "source": [
    "@dsl.component\n",
    "def process_data():\n",
    "    data_processing=kfp.dsl.ContainerOp(\n",
    "        name=\"data-processing\",\n",
    "        image=\"docker.io/vikashub/kubeflowsdk\",\n",
    "        command=[\"pyhton\",\"data_process.py\"])\n",
    "    return data_processing"
   ]
  },
  {
   "cell_type": "code",
   "execution_count": null,
   "id": "6ad61b2d-84fb-4c7e-a7fc-4e4ababd0848",
   "metadata": {},
   "outputs": [],
   "source": [
    "@dsl.component\n",
    "def training():\n",
    "    # Defining component configuration\n",
    "    training_component = kfp.dsl.ContainerOp(\n",
    "        name='training',\n",
    "        image='docker.io/vikashub/kubeflowsdk',\n",
    "        command=['python', 'train.py'],\n",
    "        file_outputs={'mlpipeline-ui-metadata':'artifacts/mlpipeline-ui-metadata.json', \"mlpipeline-metrics\":'artifacts/mlpipeline-metrics.json'}\n",
    "        )\n",
    "    \n",
    "    return training_component"
   ]
  },
  {
   "cell_type": "code",
   "execution_count": null,
   "id": "e73d93bb-e2db-45ec-8027-ebb8873e60be",
   "metadata": {},
   "outputs": [],
   "source": [
    "debug=True\n",
    "if debug:\n",
    "    components=training()\n",
    "    print(components)"
   ]
  },
  {
   "cell_type": "code",
   "execution_count": null,
   "id": "58d07f2c-9e33-4d55-9e6a-5b7a45901844",
   "metadata": {},
   "outputs": [],
   "source": [
    "@dsl.pipeline(name=\"creating pipeline for predicting wine quality\",\n",
    "              description=\"it is an end to end pipeline\")\n",
    "def wine_pipeline():\n",
    "    download_data=get_data()\n",
    "    download_data.execution_options.caching_strategy.max_cache_staleness=\"P0D\"\n",
    "    data_processing=process_data().after(download_data)\n",
    "    data_processing.execution_options.caching_strategy.max_cache_staleness=\"P0D\"\n",
    "    training=training().after(data_processing)\n",
    "    training.execution_options.caching_strategy.max_cache_staleness=\"P0D\""
   ]
  },
  {
   "cell_type": "code",
   "execution_count": null,
   "id": "5f447093-e842-481f-adbe-0add6adb05fe",
   "metadata": {},
   "outputs": [],
   "source": [
    "debug=True\n",
    "if debug:\n",
    "    components=wine_pipeline()\n",
    "    print(components)"
   ]
  },
  {
   "cell_type": "code",
   "execution_count": null,
   "id": "2148e9d3-373a-4e8e-8cc3-c1e3338cfd01",
   "metadata": {},
   "outputs": [],
   "source": [
    "kfp.compiler.Compiler.compile(wine_pipeline,'wine-pipeline-kubeflow.yaml')"
   ]
  },
  {
   "cell_type": "code",
   "execution_count": null,
   "id": "7ff49852-1dc9-470c-b613-02e469627211",
   "metadata": {},
   "outputs": [],
   "source": [
    "client=kfp.Clinet()"
   ]
  },
  {
   "cell_type": "code",
   "execution_count": null,
   "id": "3f14ec21-19e9-4f9c-89a4-87f1f4bf5a2b",
   "metadata": {},
   "outputs": [],
   "source": [
    "EXPERIMENT_NAME=\"vikas_kubeflow\"\n",
    "experiment=client.create_experiment(name=EXPERIMENT_NAME)"
   ]
  },
  {
   "cell_type": "code",
   "execution_count": null,
   "id": "30045fda-fe8d-419a-a6c1-9888d0af57cc",
   "metadata": {},
   "outputs": [],
   "source": [
    "run=client.run_pipeline(experiment.id,\"vikas_run\",\"wine-pipeline-kubeflow.yaml\")"
   ]
  }
 ],
 "metadata": {
  "kernelspec": {
   "display_name": "Python 3",
   "language": "python",
   "name": "python3"
  },
  "language_info": {
   "codemirror_mode": {
    "name": "ipython",
    "version": 3
   },
   "file_extension": ".py",
   "mimetype": "text/x-python",
   "name": "python",
   "nbconvert_exporter": "python",
   "pygments_lexer": "ipython3",
   "version": "3.8.3"
  }
 },
 "nbformat": 4,
 "nbformat_minor": 5
}
